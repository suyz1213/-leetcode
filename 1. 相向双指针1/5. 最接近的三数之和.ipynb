{
 "cells": [
  {
   "cell_type": "markdown",
   "metadata": {},
   "source": [
    "题目：\n",
    "\n",
    "给你一个长度为n的整数数组nums和一个目标值target。请你从nums中选出三个整数，使它们的和与target最接近。\n",
    "\n",
    "返回这三个数的和。\n",
    "\n",
    "注：假定每组输入只存在恰好一个解。\n",
    "\n",
    "参考：https://leetcode.cn/problems/3sum-closest/solutions/2337801/ji-zhi-you-hua-ji-yu-san-shu-zhi-he-de-z-qgqi/\n",
    "\n",
    "例：\n",
    "\n",
    "输入: nums = [-1,2,1,-4]，target = 1\n",
    "\n",
    "输出: 2\n",
    "\n",
    "解释：与target最接近的和是2(-1 + 2 + 1 = 2)"
   ]
  },
  {
   "cell_type": "code",
   "execution_count": 21,
   "metadata": {},
   "outputs": [],
   "source": [
    "from typing import List\n",
    "import math"
   ]
  },
  {
   "cell_type": "markdown",
   "metadata": {},
   "source": [
    "方法：双向指针\n",
    "\n",
    "思路和三数之和类似，排序后，枚举nums[i]作为第一个数，那么问题变成找到另外两个数，使得这三个数的和与target最接近，这同样可以用双指针解决。\n",
    "\n",
    "设s=nums[i]+nums[j]+nums[k]，为了判断s是不是与target最近的数，我们还需要用一个变量minDiff维护|s−target|的最小值。分类讨论：\n",
    "\n",
    "如果s=target，那么答案就是s，直接返回s。\n",
    "\n",
    "如果s>target，那么如果s−target<minDiff，说明找到了一个与target更近的数，更新minDiff为s−target，更新答案为s。然后和三数之和一样，把k减一。\n",
    "\n",
    "否则 s<target，那么如果target−s<minDiff，说明找到了一个与target更近的数，更新minDiff为target，更新答案为s。然后和三数之和一样，把j加一。"
   ]
  },
  {
   "cell_type": "markdown",
   "metadata": {},
   "source": [
    "除此以外，还有以下几个优化：\n",
    "\n",
    "设s=nums[i]+nums[i+1]+nums[i+2]。如果s>target，由于数组已经排序，后面无论怎么选，选出的三个数的和不会比s还小，所以不会找到比s更优的答案了。所以只要s>target，就可以直接break外层循环了。在break前判断s是否离target更近，如果更近，那么更新答案为s。\n",
    "\n",
    "设s=nums[i]+nums[n−2]+nums[n−1]。如果s<target，由于数组已经排序，nums[i]加上后面任意两个数都不超过s，所以下面的双指针就不需要跑了，无法找到比s更优的答案。但是后面还有更大的nums[i]，可能找到一个离target更近的三数之和，所以还需要继续枚举，continue外层循环。在continue前判断s是否离target更近，如果更近，那么更新答案为s，更新minDiff为 target−s。\n",
    "\n",
    "如果i>0且nums[i]=nums[i−1]，那么nums[i]和后面数字相加的结果，必然在之前算出过，所以无需跑下面的双指针，直接continue外层循环（可以放在循环开头判断）。"
   ]
  },
  {
   "cell_type": "code",
   "execution_count": 24,
   "metadata": {},
   "outputs": [
    {
     "data": {
      "text/plain": [
       "2"
      ]
     },
     "execution_count": 24,
     "metadata": {},
     "output_type": "execute_result"
    }
   ],
   "source": [
    "class Solution:\n",
    "    def threeSumClosest(self, nums: List[int], target: int) -> int:\n",
    "        nums.sort()\n",
    "        diff = math.inf\n",
    "        n = len(nums)\n",
    "\n",
    "        for i in range(n - 2):\n",
    "\n",
    "            x = nums[i]\n",
    "            if i > 0 and x == nums[i - 1]:\n",
    "                continue\n",
    "\n",
    "            s = x + nums[i + 1] + nums[i + 2]\n",
    "            if s > target:\n",
    "                if s - target < diff:\n",
    "                    ans = s\n",
    "                break\n",
    "\n",
    "            s = x + nums[-2] + nums[-1]\n",
    "            if s < target:\n",
    "                if target - s < diff:\n",
    "                    diff = target - s\n",
    "                    ans = s\n",
    "                continue\n",
    "            \n",
    "            j, k = i + 1, n - 1\n",
    "\n",
    "            while j < k:\n",
    "                s = x + nums[j] + nums[k]\n",
    "                if s == target:\n",
    "                    return s\n",
    "                if s > target:\n",
    "                    if s - target < diff:\n",
    "                        diff = s - target\n",
    "                        ans = s\n",
    "                    k -= 1\n",
    "                else:\n",
    "                    if target - s < diff:\n",
    "                        diff = target - s\n",
    "                        ans = s\n",
    "                    j += 1\n",
    "\n",
    "        return ans\n",
    "                \n",
    "s1 = Solution()\n",
    "s1.threeSumClosest([-1,2,1,-4], 1)"
   ]
  },
  {
   "cell_type": "code",
   "execution_count": 25,
   "metadata": {},
   "outputs": [
    {
     "data": {
      "text/plain": [
       "-15"
      ]
     },
     "execution_count": 25,
     "metadata": {},
     "output_type": "execute_result"
    }
   ],
   "source": [
    "s1.threeSumClosest([-1000,-5,-5,-5,-5,-5,-5,-1,-1,-1], -14)"
   ]
  },
  {
   "cell_type": "markdown",
   "metadata": {},
   "source": [
    "时间复杂度：O(N^2)，其中N为nums的长度。排序O(NlogN)。外层循环枚举第一个数，然后O(N)双指针。所以总的时间复杂度为O(N^2)。\n",
    "\n",
    "空间复杂度：O(1)，仅用到若干变量（忽略排序的栈开销）。"
   ]
  }
 ],
 "metadata": {
  "kernelspec": {
   "display_name": "Python 3",
   "language": "python",
   "name": "python3"
  },
  "language_info": {
   "codemirror_mode": {
    "name": "ipython",
    "version": 3
   },
   "file_extension": ".py",
   "mimetype": "text/x-python",
   "name": "python",
   "nbconvert_exporter": "python",
   "pygments_lexer": "ipython3",
   "version": "3.11.9"
  }
 },
 "nbformat": 4,
 "nbformat_minor": 2
}
