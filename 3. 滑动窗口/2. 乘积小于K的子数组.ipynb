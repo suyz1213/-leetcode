{
 "cells": [
  {
   "cell_type": "markdown",
   "metadata": {},
   "source": [
    "题目：\n",
    "\n",
    "给你一个整数数组nums和一个整数k ，请你返回子数组内所有元素的乘积严格小于k的连续子数组的数目。\n",
    "\n",
    "注意：nums[i] >= 1\n",
    "\n",
    "参考：https://leetcode.cn/problems/subarray-product-less-than-k/solutions/1959538/xia-biao-zong-suan-cuo-qing-kan-zhe-by-e-jebq/\n",
    "\n",
    "例：\n",
    "\n",
    "输入: nums = [10,5,2,6], k = 100\n",
    "\n",
    "输出: 8\n",
    "\n",
    "解释：8个乘积小于100的子数组分别为：[10]、[5]、[2],、[6]、[10,5]、[5,2]、[2,6]、[5,2,6]。"
   ]
  },
  {
   "cell_type": "code",
   "execution_count": 2,
   "metadata": {},
   "outputs": [],
   "source": [
    "from typing import List"
   ]
  },
  {
   "cell_type": "markdown",
   "metadata": {},
   "source": [
    "方法：滑动窗口\n",
    "\n",
    "思路同长度最小的子数组。首先枚举滑窗右端点，判断并缩进左端点；当缩进左端点后，滑窗内部乘积满足题目条件时，左右两端点之间的所有子数组的乘积都满足，其数目为right-left+1（此处+1为当左右两端点重合时，子数组只包含一个数且满足条件的情况）。"
   ]
  },
  {
   "cell_type": "code",
   "execution_count": 9,
   "metadata": {},
   "outputs": [
    {
     "data": {
      "text/plain": [
       "8"
      ]
     },
     "execution_count": 9,
     "metadata": {},
     "output_type": "execute_result"
    }
   ],
   "source": [
    "class Solution:\n",
    "    def numSubarrayProductLessThanK(self, nums: List[int], k: int) -> int:\n",
    "\n",
    "        if k <= 1:\n",
    "            return 0\n",
    "        \n",
    "        left = ans = 0\n",
    "        prod = 1\n",
    "\n",
    "        for right, num in enumerate(nums):\n",
    "            prod *= num\n",
    "            while prod >= k:\n",
    "                prod /= nums[left]\n",
    "                left += 1\n",
    "            ans += right - left + 1\n",
    "    \n",
    "        return ans\n",
    "    \n",
    "s1 = Solution()\n",
    "s1.numSubarrayProductLessThanK([10,5,2,6], 100)\n"
   ]
  },
  {
   "cell_type": "markdown",
   "metadata": {},
   "source": [
    "时间复杂度：O(N)，其中N为nums的长度。虽然写了个二重循环，但是内层循环中对left加一的总执行次数不会超过N次，所以总的时间复杂度为O(N)。\n",
    "\n",
    "空间复杂度：O(1)，仅用到若干额外变量。"
   ]
  }
 ],
 "metadata": {
  "kernelspec": {
   "display_name": "Python 3",
   "language": "python",
   "name": "python3"
  },
  "language_info": {
   "codemirror_mode": {
    "name": "ipython",
    "version": 3
   },
   "file_extension": ".py",
   "mimetype": "text/x-python",
   "name": "python",
   "nbconvert_exporter": "python",
   "pygments_lexer": "ipython3",
   "version": "3.11.9"
  }
 },
 "nbformat": 4,
 "nbformat_minor": 2
}
