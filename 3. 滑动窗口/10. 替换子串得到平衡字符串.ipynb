{
 "cells": [
  {
   "cell_type": "markdown",
   "metadata": {},
   "source": [
    "题目：\n",
    "\n",
    "有一个只含有'Q', 'W', 'E', 'R'四种字符，且长度为n的字符串。假如在该字符串中，这四个字符都恰好出现n/4次，那么它就是一个平衡字符串。给你一个这样的字符串 s，请通过替换一个子串的方式，使原字符串s变成一个平衡字符串。\n",
    "\n",
    "你可以用和待替换子串长度相同的任何其他字符串来完成替换。请返回待替换子串的最小可能长度。如果原字符串自身就是一个平衡字符串，则返回0。\n",
    "\n",
    "参考：https://leetcode.cn/problems/replace-the-substring-for-balanced-string/solutions/2108358/tong-xiang-shuang-zhi-zhen-hua-dong-chua-z7tu/\n",
    "\n",
    "例：\n",
    "\n",
    "输入: s = \"QQWE\"\n",
    "\n",
    "输出: 1\n",
    "\n",
    "解释：我们需要把一个'Q'替换成'R'，这样得到的\"RQWE\"。"
   ]
  },
  {
   "cell_type": "code",
   "execution_count": 3,
   "metadata": {},
   "outputs": [],
   "source": [
    "from typing import List"
   ]
  },
  {
   "cell_type": "markdown",
   "metadata": {},
   "source": [
    "方法：滑动窗口 + hashmap\n",
    "\n",
    "待替换子串之外的任意字符出现次数超过n/4，则无论怎么替换子串都无法使整个字符串变为平衡字符串；即待替换子串外的任意字符出现次数不超过n/4，则可以通过替换子串内的元素使整个字符串变为平衡字符串（注：待替换字符串所有元素不一定都要改变）。"
   ]
  },
  {
   "cell_type": "code",
   "execution_count": 1,
   "metadata": {},
   "outputs": [],
   "source": [
    "from collections import Counter"
   ]
  },
  {
   "cell_type": "code",
   "execution_count": 9,
   "metadata": {},
   "outputs": [
    {
     "data": {
      "text/plain": [
       "1"
      ]
     },
     "execution_count": 9,
     "metadata": {},
     "output_type": "execute_result"
    }
   ],
   "source": [
    "class Solution:\n",
    "    def balancedString(self, s: str) -> int:\n",
    "        left = 0\n",
    "        ans = len(s) + 1\n",
    "        m = len(s) / 4\n",
    "        cnt = Counter(s)\n",
    "\n",
    "        if all(cnt[c] == m for c in \"QWER\"):  # 该情况已经是平衡字符串\n",
    "            return 0\n",
    "        \n",
    "        for right, c in enumerate(s):\n",
    "            cnt[c] -= 1\n",
    "            while all(cnt[c] <= m for c in \"QWER\"):\n",
    "                ans = min(ans, right-left+1)\n",
    "                cnt[s[left]] += 1\n",
    "                left += 1\n",
    "\n",
    "        return ans\n",
    "    \n",
    "s1 = Solution()\n",
    "s1.balancedString(s = \"QQWE\")"
   ]
  },
  {
   "cell_type": "markdown",
   "metadata": {},
   "source": [
    "时间复杂度：O(NC)。C=4。\n",
    "\n",
    "空间复杂度：O(C)。"
   ]
  }
 ],
 "metadata": {
  "kernelspec": {
   "display_name": "Python 3",
   "language": "python",
   "name": "python3"
  },
  "language_info": {
   "codemirror_mode": {
    "name": "ipython",
    "version": 3
   },
   "file_extension": ".py",
   "mimetype": "text/x-python",
   "name": "python",
   "nbconvert_exporter": "python",
   "pygments_lexer": "ipython3",
   "version": "3.11.9"
  }
 },
 "nbformat": 4,
 "nbformat_minor": 2
}
