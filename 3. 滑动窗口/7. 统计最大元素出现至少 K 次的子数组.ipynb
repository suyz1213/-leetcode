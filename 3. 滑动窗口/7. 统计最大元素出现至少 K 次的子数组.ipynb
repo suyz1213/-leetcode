{
 "cells": [
  {
   "cell_type": "markdown",
   "metadata": {},
   "source": [
    "题目：\n",
    "\n",
    "给你一个整数数组nums和一个正整数k。请你统计有多少满足nums中的最大元素至少出现k次的子数组，并返回满足这一条件的子数组的数目。子数组是数组中的一个连续元素序列。\n",
    "\n",
    "参考：https://leetcode.cn/problems/count-subarrays-where-max-element-appears-at-least-k-times/solutions/2560940/hua-dong-chuang-kou-fu-ti-dan-pythonjava-xvwg/\n",
    "\n",
    "例：\n",
    "\n",
    "输入: nums = [1,3,2,3,3], k = 2\n",
    "\n",
    "输出: 6\n",
    "\n",
    "解释：包含元素3至少2次的子数组为：[1,3,2,3]、[1,3,2,3,3]、[3,2,3]、[3,2,3,3]、[2,3,3] 和 [3,3] 。"
   ]
  },
  {
   "cell_type": "code",
   "execution_count": null,
   "metadata": {},
   "outputs": [],
   "source": [
    "from typing import List"
   ]
  },
  {
   "cell_type": "markdown",
   "metadata": {},
   "source": [
    "方法：滑动窗口\n",
    "\n",
    "假定已知最大值为max_num，用额外变量cnt_max记录最大值的数量。枚举右端点，每次当右指针对应数值等于最大值时，cnt_max加1；当cnt_max等于指定k时，缩进左侧指针直至去掉一个最大值，cnt_max减去1，此时左指针及其之前的子数组都满足条件；之后再次移动右侧端点，当cnt_max再次与k相等时，移动左侧。"
   ]
  },
  {
   "cell_type": "code",
   "execution_count": 10,
   "metadata": {},
   "outputs": [
    {
     "data": {
      "text/plain": [
       "6"
      ]
     },
     "execution_count": 10,
     "metadata": {},
     "output_type": "execute_result"
    }
   ],
   "source": [
    "class Solution:\n",
    "    def countSubarrays(self, nums: List[int], k: int) -> int:\n",
    "        left = ans = cnt_max = 0\n",
    "        max_num = max(nums)\n",
    "\n",
    "        for num in nums:\n",
    "            if num == max_num:\n",
    "                cnt_max += 1\n",
    "            while cnt_max == k:\n",
    "                cnt_max -= nums[left] == max_num\n",
    "                left += 1\n",
    "            ans += left\n",
    "        \n",
    "        return ans\n",
    "    \n",
    "s1 = Solution()\n",
    "s1.countSubarrays(nums = [1,3,2,3,3], k = 2)"
   ]
  },
  {
   "cell_type": "markdown",
   "metadata": {},
   "source": [
    "时间复杂度：O(N)。\n",
    "\n",
    "空间复杂度：O(1)。"
   ]
  }
 ],
 "metadata": {
  "kernelspec": {
   "display_name": "Python 3",
   "language": "python",
   "name": "python3"
  },
  "language_info": {
   "codemirror_mode": {
    "name": "ipython",
    "version": 3
   },
   "file_extension": ".py",
   "mimetype": "text/x-python",
   "name": "python",
   "nbconvert_exporter": "python",
   "pygments_lexer": "ipython3",
   "version": "3.11.9"
  }
 },
 "nbformat": 4,
 "nbformat_minor": 2
}
