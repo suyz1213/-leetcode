{
 "cells": [
  {
   "cell_type": "markdown",
   "metadata": {},
   "source": [
    "题目：\n",
    "\n",
    "给定一个字符串s，请你找出其中不含有重复字符的最长子串的长度。 s由英文字母、数字、符号和空格组成。\n",
    "\n",
    "参考：https://leetcode.cn/problems/longest-substring-without-repeating-characters/solutions/1959540/xia-biao-zong-suan-cuo-qing-kan-zhe-by-e-iaks/\n",
    "\n",
    "例：\n",
    "\n",
    "输入: s = \"abcabcbb\"\n",
    "\n",
    "输出: 3\n",
    "\n",
    "解释：因为无重复字符的最长子串是\"abc\"，所以其长度为3。"
   ]
  },
  {
   "cell_type": "code",
   "execution_count": null,
   "metadata": {},
   "outputs": [],
   "source": [
    "from typing import List"
   ]
  },
  {
   "cell_type": "markdown",
   "metadata": {},
   "source": [
    "方法：滑动窗口 + hashtable\n",
    "\n",
    "创建一个hashmap来存储每个字符及其出现的次数。枚举窗口右端指针，该字符在hashmap的数值加1，若hashmap中的数组大于1，则说明窗口最左边的字符重复；因此缩进窗口左端点，并在hashmap中对该数值对应数量减去1。"
   ]
  },
  {
   "cell_type": "code",
   "execution_count": 9,
   "metadata": {},
   "outputs": [],
   "source": [
    "from collections import Counter"
   ]
  },
  {
   "cell_type": "code",
   "execution_count": 11,
   "metadata": {},
   "outputs": [
    {
     "data": {
      "text/plain": [
       "3"
      ]
     },
     "execution_count": 11,
     "metadata": {},
     "output_type": "execute_result"
    }
   ],
   "source": [
    "class Solution:\n",
    "    def lengthOfLongestSubstring(self, s: str) -> int:\n",
    "        left = 0\n",
    "        ans = 0\n",
    "        cnt = Counter()\n",
    "        # cnt = dict()\n",
    "\n",
    "        for right, num in enumerate(s):\n",
    "            '''\n",
    "            if num not in cnt:  # the dictionary 'cnt' does not have an initial value for the key 'num' when you attempt to increment it.\n",
    "                cnt[num] = 0\n",
    "            '''\n",
    "\n",
    "            cnt[num] += 1\n",
    "            while cnt[num] > 1:\n",
    "                cnt[s[left]] -= 1\n",
    "                left += 1\n",
    "            ans = max(ans, right - left + 1)\n",
    "        \n",
    "        return ans\n",
    "    \n",
    "s1 = Solution()\n",
    "s1.lengthOfLongestSubstring(s = \"abcabcbb\")"
   ]
  },
  {
   "cell_type": "markdown",
   "metadata": {},
   "source": [
    "时间复杂度：O(N)。\n",
    "\n",
    "空间复杂度：O(128)。本题中字符均为 ASCII 字符，所以最多128种。"
   ]
  }
 ],
 "metadata": {
  "kernelspec": {
   "display_name": "Python 3",
   "language": "python",
   "name": "python3"
  },
  "language_info": {
   "codemirror_mode": {
    "name": "ipython",
    "version": 3
   },
   "file_extension": ".py",
   "mimetype": "text/x-python",
   "name": "python",
   "nbconvert_exporter": "python",
   "pygments_lexer": "ipython3",
   "version": "3.11.9"
  }
 },
 "nbformat": 4,
 "nbformat_minor": 2
}
