{
 "cells": [
  {
   "cell_type": "markdown",
   "metadata": {},
   "source": [
    "题目：\n",
    "\n",
    "给你一个按照非递减顺序排列的整数数组nums，和一个目标值target。请你找出给定目标值在数组中的开始位置和结束位置。如果数组中不存在目标值target，返回[-1, -1]。你必须设计并实现时间复杂度为O(log n)的算法解决此问题。\n",
    "\n",
    "参考：https://leetcode.cn/problems/find-first-and-last-position-of-element-in-sorted-array/solutions/1980196/er-fen-cha-zhao-zong-shi-xie-bu-dui-yi-g-t9l9/\n",
    "\n",
    "b站：https://www.bilibili.com/video/BV1AP41137w7/?spm_id_from=333.788&vd_source=63dca26ecee30ed2986725b3623aae58\n",
    "\n",
    "例：\n",
    "\n",
    "输入: nums = [5,7,7,8,8,10], target = 8\n",
    "\n",
    "输出: [3,4]"
   ]
  },
  {
   "cell_type": "code",
   "execution_count": 1,
   "metadata": {},
   "outputs": [],
   "source": [
    "from typing import List"
   ]
  },
  {
   "cell_type": "markdown",
   "metadata": {},
   "source": [
    "方法：二分查找-红蓝染色法\n",
    "\n",
    "1. 二分查找闭区间-左闭右开区间-开区间的写法；\n",
    "\n",
    "2. 整数范围内不等式的等价关系（以 >= x 为基准）：\n",
    "    \n",
    "    a. > x 等价于 >= x+1;\n",
    "\n",
    "    b. < x 等价于 (>= x)-1;\n",
    "\n",
    "    c. <= x 等价于 (> x)-1，即 >= (x+1)-1。\n",
    "\n",
    "3. 二分查找的循环结束条件理解：当区间不为空的时候，就要继续循环。对于左闭右开的情况，只要 left < right 就要继续循环，例如[1,2)区间里面还有一个整数 1，区间不为空要继续循环。对于左闭右闭的情况，只要 left <= right 就要继续循环，例如[1,1]区间里面还有一个整数 1，区间不为空要继续循环。"
   ]
  },
  {
   "cell_type": "markdown",
   "metadata": {},
   "source": [
    "<img src=\"./二分查找理解.png\" style=\"zoom:100%\" />"
   ]
  },
  {
   "cell_type": "code",
   "execution_count": 3,
   "metadata": {},
   "outputs": [],
   "source": [
    "# 闭区间\n",
    "def lowerbound(nums: List[int], target: int) -> int:\n",
    "    left = 0\n",
    "    right = len(nums)\n",
    "    while left <= right:  # 循环结束条件，区间为空\n",
    "        m = (left + right) // 2\n",
    "        if nums[m] < target:\n",
    "            left = m + 1\n",
    "        else:\n",
    "            right = m - 1\n",
    "    return left\n",
    "\n",
    "# 左闭右开区间\n",
    "def lowerbound2(nums: List[int], target: int) -> int:\n",
    "    left = 0\n",
    "    right = len(nums)\n",
    "    while left < right:\n",
    "        m = (left + right) // 2\n",
    "        if nums[m] < target:\n",
    "            left = m + 1\n",
    "        else:\n",
    "            right = m\n",
    "    return left\n",
    "\n",
    "# 闭区间\n",
    "def lowerbound3(nums: List[int], target: int) -> int:\n",
    "    left = -1\n",
    "    right = len(nums)\n",
    "    while left + 1 < right:\n",
    "        m = (left + right) // 2\n",
    "        if nums[m] < target:\n",
    "            left = m\n",
    "        else:\n",
    "            right = m\n",
    "    return right\n",
    "\n",
    "\n",
    "\n",
    "class Solution:\n",
    "    def searchRange(self, nums: List[int], target: int) -> List[int]:\n",
    "        start = lowerbound2(nums, target)\n",
    "        if start == len(nums) or nums[start] != target:  # nums中没有target\n",
    "            return [-1, -1]\n",
    "        end = lowerbound2(nums, target + 1) - 1  # 若start存在，则end一定存在\n",
    "        return [start, end]"
   ]
  },
  {
   "cell_type": "markdown",
   "metadata": {},
   "source": [
    "时间复杂度：O(logN)。\n",
    "\n",
    "空间复杂度：O(1)。"
   ]
  }
 ],
 "metadata": {
  "kernelspec": {
   "display_name": "Python 3",
   "language": "python",
   "name": "python3"
  },
  "language_info": {
   "codemirror_mode": {
    "name": "ipython",
    "version": 3
   },
   "file_extension": ".py",
   "mimetype": "text/x-python",
   "name": "python",
   "nbconvert_exporter": "python",
   "pygments_lexer": "ipython3",
   "version": "3.11.9"
  }
 },
 "nbformat": 4,
 "nbformat_minor": 2
}
