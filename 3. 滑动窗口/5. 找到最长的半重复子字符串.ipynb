{
 "cells": [
  {
   "cell_type": "markdown",
   "metadata": {},
   "source": [
    "题目：\n",
    "\n",
    "给你一个下标从0开始的字符串s ，这个字符串只包含0到9的数字字符。如果一个字符串t中至多有一对相邻字符是相等的，那么称这个字符串t是半重复的 。例如，\"0010\"、\"002020\"、\"0123\"、\"2002\"和\"54944\"是半重复字符串，而\"00101022\"（相邻的相同数字对是00和22）和\"1101234883\"（相邻的相同数字对是11和88）不是半重复字符串。\n",
    "\n",
    "请你返回s中最长半重复子字符串的长度。\n",
    "\n",
    "参考：https://leetcode.cn/problems/find-the-longest-semi-repetitive-substring/solutions/2304713/shuang-zhi-zhen-hua-chuang-pythonjavacgo-nurf/\n",
    "\n",
    "b站：https://www.bilibili.com/video/BV18u411Y7Gt/?vd_source=63dca26ecee30ed2986725b3623aae58\n",
    "\n",
    "例：\n",
    "\n",
    "输入: s = \"52233\"\n",
    "\n",
    "输出: 4\n",
    "\n",
    "解释：最长的半重复子字符串是\"5223\"。整个字符串\"52233\"有两个相邻的相同数字对22和33，但最多只能选取一个。"
   ]
  },
  {
   "cell_type": "code",
   "execution_count": 1,
   "metadata": {},
   "outputs": [],
   "source": [
    "from typing import List"
   ]
  },
  {
   "cell_type": "markdown",
   "metadata": {},
   "source": [
    "方法：滑动窗口\n",
    "\n",
    "用一个变量same_cnt记录枚举的右端的数值是否等于其前一个的数值，相等则+1。若后续继续枚举，再次出现该情况，则移动左边指针，直到当前左指针与其前一个指针的数值相等，此时重置该变量same_cnt。\n",
    "\n",
    "移动右指针right，并统计相邻相同的情况出现了多少次，记作same。如果same>1，则不断移动左指针left直到s[left]=s[left−1]，此时将一对相同的字符移到窗口之外。然后将same置为 1。然后统计子串长度right−left+1的最大值。"
   ]
  },
  {
   "cell_type": "code",
   "execution_count": 3,
   "metadata": {},
   "outputs": [
    {
     "data": {
      "text/plain": [
       "4"
      ]
     },
     "execution_count": 3,
     "metadata": {},
     "output_type": "execute_result"
    }
   ],
   "source": [
    "class Solution:\n",
    "    def longestSemiRepetitiveSubstring(self, s: str) -> int:\n",
    "        ans = 1\n",
    "        left = same_cnt = 0\n",
    "\n",
    "        for right in range(1, len(s)):\n",
    "            same_cnt += s[right] == s[right-1]\n",
    "            if same_cnt > 1:\n",
    "                left += 1\n",
    "                while s[left] != s[left-1]:\n",
    "                    left += 1\n",
    "                same_cnt = 1\n",
    "            ans = max(ans, right-left+1)\n",
    "        \n",
    "        return ans\n",
    "\n",
    "s1 = Solution()\n",
    "s1.longestSemiRepetitiveSubstring(s = \"52233\")"
   ]
  },
  {
   "cell_type": "markdown",
   "metadata": {},
   "source": [
    "时间复杂度：O(N)。\n",
    "\n",
    "空间复杂度：O(1)。"
   ]
  }
 ],
 "metadata": {
  "kernelspec": {
   "display_name": "Python 3",
   "language": "python",
   "name": "python3"
  },
  "language_info": {
   "codemirror_mode": {
    "name": "ipython",
    "version": 3
   },
   "file_extension": ".py",
   "mimetype": "text/x-python",
   "name": "python",
   "nbconvert_exporter": "python",
   "pygments_lexer": "ipython3",
   "version": "3.11.9"
  }
 },
 "nbformat": 4,
 "nbformat_minor": 2
}
