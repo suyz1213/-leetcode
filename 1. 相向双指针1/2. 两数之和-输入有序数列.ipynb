{
 "cells": [
  {
   "cell_type": "markdown",
   "metadata": {},
   "source": [
    "题目：\n",
    "\n",
    "给定一个下标从1开始的整数数组numbers，该数组已按非递减顺序排列，请你从数组中找出满足相加之和等于目标数target的两个数。如果设这两个数分别是numbers[index1]和numbers[index2]，则1 <= index1 < index2 <= numbers.length。\n",
    "\n",
    "以长度为2的整数数组[index1, index2]的形式返回这两个整数的下标index1和index2。\n",
    "\n",
    "你可以假设每个输入 只对应唯一的答案 ，而且你不可以重复使用相同的元素。\n",
    "\n",
    "你所设计的解决方案必须只使用常量级的额外空间。\n",
    "\n",
    "参考：https://leetcode.cn/problems/two-sum-ii-input-array-is-sorted/solutions/1968341/san-shu-zhi-he-bu-hui-xie-xiang-xiang-sh-6wbq/\n",
    "\n",
    "b站：https://www.bilibili.com/video/BV1bP411c7oJ/?vd_source=63dca26ecee30ed2986725b3623aae58\n",
    "\n",
    "例：\n",
    "\n",
    "输入: nums = [2,7,11,15], target = 9\n",
    "\n",
    "输出: [1,2]"
   ]
  },
  {
   "cell_type": "code",
   "execution_count": 1,
   "metadata": {},
   "outputs": [],
   "source": [
    "from typing import List"
   ]
  },
  {
   "cell_type": "markdown",
   "metadata": {},
   "source": [
    "方法一：相向双指针\n",
    "\n",
    "选择有序数组最小和最大数相加，若大于target，则舍弃最大数取其前一位数；反之舍弃最小数取其后一位数。再比较新的两数之和与target的大小，重复上述步骤直至获得两数之和等于target。\n",
    "\n",
    "<img src=\"./有序两数之和.png\" style=\"zoom:50%\" />"
   ]
  },
  {
   "cell_type": "code",
   "execution_count": 5,
   "metadata": {},
   "outputs": [
    {
     "data": {
      "text/plain": [
       "[5, 6]"
      ]
     },
     "execution_count": 5,
     "metadata": {},
     "output_type": "execute_result"
    }
   ],
   "source": [
    "class Solution:\n",
    "    def twoSum(self, numbers: List[int], target: int) -> List[int]:\n",
    "        left = 0\n",
    "        right = len(numbers) - 1\n",
    "        while left < right:  # 此处也可以用True，因为题目说明必有解\n",
    "            s = numbers[left] + numbers[right]\n",
    "            if s == target:\n",
    "                return [left + 1, right + 1]  # 题目要求下标从1开始\n",
    "            if s < target:\n",
    "                left += 1\n",
    "            else:\n",
    "                right -= 1\n",
    "\n",
    "s1 = Solution()\n",
    "s1.twoSum([2,7,11,12,51,77,80], 128)"
   ]
  },
  {
   "cell_type": "markdown",
   "metadata": {},
   "source": [
    "时间复杂度：O(N)。\n",
    "\n",
    "为什么时间复杂度可以从暴力枚举的O(N^2)降为O(N)？因为每次从两端的数求和与target比较时，相当于用了O(1)的时间获得O(N)的信息；例如当选择2跟80时，由于其小于target，所以2与比80时小的数组内其他数也一定小于target，因此可以直接舍弃掉2，然后看2之后的数。\n",
    "\n",
    "空间复杂度：O(1)。"
   ]
  },
  {
   "cell_type": "markdown",
   "metadata": {},
   "source": [
    "方法二：二分查找\n",
    "\n",
    "在数组中找到两个数，使得它们的和等于目标值，可以首先固定第一个数，然后寻找第二个数，第二个数等于目标值减去第一个数的差。利用数组的有序性质，可以通过二分查找的方法寻找第二个数。为了避免重复寻找，在寻找第二个数时，只在第一个数的右侧寻找。"
   ]
  },
  {
   "cell_type": "code",
   "execution_count": 6,
   "metadata": {},
   "outputs": [
    {
     "data": {
      "text/plain": [
       "[5, 6]"
      ]
     },
     "execution_count": 6,
     "metadata": {},
     "output_type": "execute_result"
    }
   ],
   "source": [
    "class Solution:\n",
    "    def twoSum(self, numbers: List[int], target: int) -> List[int]:\n",
    "        n = len(numbers)\n",
    "        for i in range(n):\n",
    "            left, right = i + 1, n - 1\n",
    "            while left <= right:  # 此处取等\n",
    "                mid = (left + right) // 2\n",
    "                if numbers[mid] == target - numbers[i]:\n",
    "                    return [i + 1, mid + 1]\n",
    "                if numbers[mid] > target - numbers[i]:\n",
    "                    right = mid - 1\n",
    "                else:\n",
    "                    left = mid + 1\n",
    "\n",
    "s1 = Solution()\n",
    "s1.twoSum([2,7,11,12,51,77,80], 128)"
   ]
  },
  {
   "cell_type": "markdown",
   "metadata": {},
   "source": [
    "时间复杂度：O(Nlog⁡N)，其中N是数组的长度。需要遍历数组一次确定第一个数，时间复杂度是O(N)，寻找第二个数使用二分查找，时间复杂度是O(logN)，因此总时间复杂度是O(NlogN)。\n",
    "\n",
    "空间复杂度：O(1)。"
   ]
  }
 ],
 "metadata": {
  "kernelspec": {
   "display_name": "Python 3",
   "language": "python",
   "name": "python3"
  },
  "language_info": {
   "codemirror_mode": {
    "name": "ipython",
    "version": 3
   },
   "file_extension": ".py",
   "mimetype": "text/x-python",
   "name": "python",
   "nbconvert_exporter": "python",
   "pygments_lexer": "ipython3",
   "version": "3.11.9"
  }
 },
 "nbformat": 4,
 "nbformat_minor": 2
}
