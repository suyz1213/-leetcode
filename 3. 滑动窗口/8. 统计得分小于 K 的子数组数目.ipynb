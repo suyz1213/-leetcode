{
 "cells": [
  {
   "cell_type": "markdown",
   "metadata": {},
   "source": [
    "题目：\n",
    "\n",
    "一个数组的分数定义为数组之和乘以数组的长度。比方说，[1,2,3,4,5] 的分数为 (1 + 2 + 3 + 4 + 5)*5=75。给你一个正整数数组nums和一个整数k，请你返回 nums中分数严格小于k的非空整数子数组数目。\n",
    "\n",
    "子数组是数组中的一个连续元素序列。\n",
    "\n",
    "参考：https://leetcode.cn/problems/count-subarrays-with-score-less-than-k/solutions/1595722/by-endlesscheng-b120/\n",
    "\n",
    "例：\n",
    "\n",
    "输入: nums = [2,1,4,3,5], k = 10\n",
    "\n",
    "输出: 6\n",
    "\n",
    "解释：有6个子数组的分数小于10, [2],[1],[4],[3],[5],[2, 1]。"
   ]
  },
  {
   "cell_type": "code",
   "execution_count": 1,
   "metadata": {},
   "outputs": [],
   "source": [
    "from typing import List"
   ]
  },
  {
   "cell_type": "markdown",
   "metadata": {},
   "source": [
    "方法：滑动窗口\n",
    "\n",
    "枚举右端点，当前滑窗内数组的score大于k时则继续枚举下一个右端点；若大于等于k则缩进左端点，直到score小于k。此时滑窗内的数组及其子数组一定满足score小于k，且数量为right-left+1（当滑窗左右端点重合时，此时数组元组为1，因此需要+1）。"
   ]
  },
  {
   "cell_type": "code",
   "execution_count": 3,
   "metadata": {},
   "outputs": [
    {
     "data": {
      "text/plain": [
       "6"
      ]
     },
     "execution_count": 3,
     "metadata": {},
     "output_type": "execute_result"
    }
   ],
   "source": [
    "class Solution:\n",
    "    def countSubarrays(self, nums: List[int], k: int) -> int:\n",
    "        s = left = ans = 0\n",
    "\n",
    "        for right, num in enumerate(nums):\n",
    "            s += num\n",
    "            \n",
    "            while s * (right-left+1) >= k:\n",
    "                s -= nums[left]\n",
    "                left += 1\n",
    "            \n",
    "            ans += right-left+1\n",
    "\n",
    "        return ans\n",
    "    \n",
    "s1 = Solution()\n",
    "s1.countSubarrays(nums = [2,1,4,3,5], k = 10)"
   ]
  },
  {
   "cell_type": "markdown",
   "metadata": {},
   "source": [
    "时间复杂度：O(N)。\n",
    "\n",
    "空间复杂度：O(1)。"
   ]
  }
 ],
 "metadata": {
  "kernelspec": {
   "display_name": "Python 3",
   "language": "python",
   "name": "python3"
  },
  "language_info": {
   "codemirror_mode": {
    "name": "ipython",
    "version": 3
   },
   "file_extension": ".py",
   "mimetype": "text/x-python",
   "name": "python",
   "nbconvert_exporter": "python",
   "pygments_lexer": "ipython3",
   "version": "3.11.9"
  }
 },
 "nbformat": 4,
 "nbformat_minor": 2
}
