{
 "cells": [
  {
   "cell_type": "markdown",
   "metadata": {},
   "source": [
    "题目：\n",
    "\n",
    "给你一个整数数组nums和一个整数k。一个元素x在数组中的频率指的是它在数组中的出现次数。如果一个数组中所有元素的频率都小于等于k ，那么我们称这个数组是好数组。\n",
    "\n",
    "请你返回nums中最长好子数组的长度。子数组指的是一个数组中一段连续非空的元素序列。\n",
    "\n",
    "参考：https://leetcode.cn/problems/length-of-longest-subarray-with-at-most-k-frequency/solutions/2560708/hua-dong-chuang-kou-fu-ti-dan-pythonjava-6fxo/\n",
    "\n",
    "例：\n",
    "\n",
    "输入: nums = [1,2,3,1,2,3,1,2], k = 2\n",
    "\n",
    "输出: 6\n",
    "\n",
    "解释：最长好子数组是[1,2,3,1,2,3] ，值1,2和3在子数组中的频率都没有超过k = 2 。[2,3,1,2,3,1]和[3,1,2,3,1,2]也是好子数组。最长好子数组的长度为 6 "
   ]
  },
  {
   "cell_type": "code",
   "execution_count": 1,
   "metadata": {},
   "outputs": [],
   "source": [
    "from typing import List"
   ]
  },
  {
   "cell_type": "markdown",
   "metadata": {},
   "source": [
    "方法：滑动窗口 + hashmap\n",
    "\n",
    "同样使用hashmap来存储好数组元素的频数。优先枚举滑窗右端，当滑窗内元素不满足题目要求时滑动左端指针。"
   ]
  },
  {
   "cell_type": "code",
   "execution_count": 2,
   "metadata": {},
   "outputs": [],
   "source": [
    "from collections import Counter"
   ]
  },
  {
   "cell_type": "code",
   "execution_count": 6,
   "metadata": {},
   "outputs": [
    {
     "data": {
      "text/plain": [
       "6"
      ]
     },
     "execution_count": 6,
     "metadata": {},
     "output_type": "execute_result"
    }
   ],
   "source": [
    "class Solution:\n",
    "    def maxSubarrayLength(self, nums: List[int], k: int) -> int:\n",
    "        left = ans = 0\n",
    "        cnt = Counter()\n",
    "        for right, num in enumerate(nums):\n",
    "            cnt[num] += 1\n",
    "            while cnt[num] > k:\n",
    "                cnt[nums[left]] -= 1  # 左端指针对应值的频数减去1\n",
    "                left += 1\n",
    "            ans = max(ans, right-left+1)\n",
    "\n",
    "        return ans\n",
    "\n",
    "s1 = Solution()\n",
    "s1.maxSubarrayLength(nums = [1,2,3,1,2,3,1,2], k = 2)"
   ]
  },
  {
   "cell_type": "code",
   "execution_count": 7,
   "metadata": {},
   "outputs": [
    {
     "data": {
      "text/plain": [
       "2"
      ]
     },
     "execution_count": 7,
     "metadata": {},
     "output_type": "execute_result"
    }
   ],
   "source": [
    "s1.maxSubarrayLength(nums = [1,2,1,2,1,2,1,2], k = 1)"
   ]
  },
  {
   "cell_type": "markdown",
   "metadata": {},
   "source": [
    "时间复杂度：O(N)。\n",
    "\n",
    "空间复杂度：O(N)。"
   ]
  }
 ],
 "metadata": {
  "kernelspec": {
   "display_name": "Python 3",
   "language": "python",
   "name": "python3"
  },
  "language_info": {
   "codemirror_mode": {
    "name": "ipython",
    "version": 3
   },
   "file_extension": ".py",
   "mimetype": "text/x-python",
   "name": "python",
   "nbconvert_exporter": "python",
   "pygments_lexer": "ipython3",
   "version": "3.11.9"
  }
 },
 "nbformat": 4,
 "nbformat_minor": 2
}
