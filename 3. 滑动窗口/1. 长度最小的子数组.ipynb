{
 "cells": [
  {
   "cell_type": "markdown",
   "metadata": {},
   "source": [
    "题目：\n",
    "\n",
    "给定一个含有n个正整数的数组和一个正整数target。找出该数组中满足其总和大于等于target的长度最小的子数组[numsl, numsl+1, ..., numsr-1, numsr]，并返回其长度。如果不存在符合条件的子数组，返回0。\n",
    "\n",
    "参考：https://leetcode.cn/problems/minimum-size-subarray-sum/solutions/1959532/biao-ti-xia-biao-zong-suan-cuo-qing-kan-k81nh/\n",
    "\n",
    "例：\n",
    "\n",
    "输入: target = 7, nums = [2,3,1,2,4,3]\n",
    "\n",
    "输出: 2\n",
    "\n",
    "解释：子数组[4,3]是该条件下的长度最小的子数组。"
   ]
  },
  {
   "cell_type": "code",
   "execution_count": 3,
   "metadata": {},
   "outputs": [],
   "source": [
    "from typing import List"
   ]
  },
  {
   "cell_type": "markdown",
   "metadata": {},
   "source": [
    "方法：滑动窗口\n",
    "\n",
    "<img src=\"./长度最小的子数组.png\" style=\"zoom:50%\" />\n",
    "\n",
    "先枚举窗口的右端，然后从左边开始缩进之前的窗口；例如此图，前一个枚举的右端所确定的滑动窗口为(2,3,1,2)，此时大于target，左端窗口缩进后窗口内数值加和小于target(3,1,2)，则枚举下一个右端窗口并加上新的右端的数值，同时依次缩进左端的窗口端点并判断窗口内数的大小；如果大于等于target，则继续移动左端点，反之就移动右边端点。"
   ]
  },
  {
   "cell_type": "code",
   "execution_count": 6,
   "metadata": {},
   "outputs": [
    {
     "data": {
      "text/plain": [
       "2"
      ]
     },
     "execution_count": 6,
     "metadata": {},
     "output_type": "execute_result"
    }
   ],
   "source": [
    "class Solution:\n",
    "    def minSubArrayLen(self, target: int, nums: List[int]) -> int:\n",
    "        n = len(nums)\n",
    "        ans = n + 1\n",
    "        left = 0\n",
    "        s = 0\n",
    "\n",
    "        # 写法1\n",
    "        '''\n",
    "        for right, num in enumerate(nums):\n",
    "            s += num  # 移动右窗口后加上对应数值\n",
    "            while s - nums[left] >= target:  # 缩进一个左端值，若仍大于target，说明可以继续缩进\n",
    "                s -= nums[left]\n",
    "                left += 1\n",
    "            if s >= target:\n",
    "                ans = min(ans, right-left+1)  # +1表示当窗口左右端点重合时，数组长度为1\n",
    "        '''\n",
    "        \n",
    "        # 写法2\n",
    "        for right, num in enumerate(nums):\n",
    "            s += num\n",
    "            while s >= target:\n",
    "                ans = min(ans, right-left+1)\n",
    "                s -= nums[left]\n",
    "                left += 1\n",
    "\n",
    "        return ans if ans <= n else 0\n",
    "    \n",
    "s1 = Solution()\n",
    "s1.minSubArrayLen(nums = [2,3,1,2,4,3], target=7)"
   ]
  },
  {
   "cell_type": "markdown",
   "metadata": {},
   "source": [
    "时间复杂度：O(N)。left至多加到n，right也是枚举n次。但left从始至终没有重置，因此不是O(N^2)。\n",
    "\n",
    "空间复杂度：O(1)。"
   ]
  }
 ],
 "metadata": {
  "kernelspec": {
   "display_name": "Python 3",
   "language": "python",
   "name": "python3"
  },
  "language_info": {
   "codemirror_mode": {
    "name": "ipython",
    "version": 3
   },
   "file_extension": ".py",
   "mimetype": "text/x-python",
   "name": "python",
   "nbconvert_exporter": "python",
   "pygments_lexer": "ipython3",
   "version": "3.11.9"
  }
 },
 "nbformat": 4,
 "nbformat_minor": 2
}
