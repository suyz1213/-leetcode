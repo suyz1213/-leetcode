{
 "cells": [
  {
   "cell_type": "markdown",
   "metadata": {},
   "source": [
    "题目：\n",
    "\n",
    "给你一个按非递减顺序排列的数组nums，返回正整数数目和负整数数目中的最大值。换句话讲，如果nums中正整数的数目是pos，而负整数的数目是neg，返回pos和neg二者中的最大值。\n",
    "注意：0既不是正整数也不是负整数。\n",
    "\n",
    "参考：https://leetcode.cn/problems/maximum-count-of-positive-integer-and-negative-integer/solutions/2050916/mo-ni-by-endlesscheng-8e43/\n",
    "\n",
    "例：\n",
    "\n",
    "输入: nums = [-2,-1,-1,1,2,3]\n",
    "\n",
    "输出: 3\n",
    "\n",
    "解释：共有3个正整数和3个负整数。计数得到的最大值是3。"
   ]
  },
  {
   "cell_type": "code",
   "execution_count": 3,
   "metadata": {},
   "outputs": [],
   "source": [
    "from typing import List"
   ]
  },
  {
   "cell_type": "markdown",
   "metadata": {},
   "source": [
    "方法：二分查找"
   ]
  },
  {
   "cell_type": "code",
   "execution_count": 19,
   "metadata": {},
   "outputs": [
    {
     "data": {
      "text/plain": [
       "3"
      ]
     },
     "execution_count": 19,
     "metadata": {},
     "output_type": "execute_result"
    }
   ],
   "source": [
    "def lowerbound2(nums: List[int], target: int) -> int:\n",
    "    left = 0\n",
    "    right = len(nums)\n",
    "    while left < right:\n",
    "        m = (left + right) // 2\n",
    "        if nums[m] < target:\n",
    "            left = m + 1\n",
    "        else:\n",
    "            right = m\n",
    "    return left\n",
    "\n",
    "class Solution:\n",
    "    def maximumCount(self, nums: List[int]) -> int:\n",
    "        if nums[0] > 0: return len(nums)\n",
    "        neg = lowerbound2(nums, 0)  # >=0的数量，即<0的数量\n",
    "        pos = len(nums) - lowerbound2(nums, 1)  # >=1的数量，总长度减去后为>0的数量\n",
    "        return max(neg, pos)\n",
    "\n",
    "s1 = Solution()\n",
    "s1.maximumCount(nums = [-2,-1,-1,1,2,3])"
   ]
  },
  {
   "cell_type": "code",
   "execution_count": 20,
   "metadata": {},
   "outputs": [
    {
     "data": {
      "text/plain": [
       "3"
      ]
     },
     "execution_count": 20,
     "metadata": {},
     "output_type": "execute_result"
    }
   ],
   "source": [
    "s1.maximumCount(nums = [-3,-2,-1,0,0,1,2])"
   ]
  },
  {
   "cell_type": "markdown",
   "metadata": {},
   "source": [
    "时间复杂度：O(logN)。\n",
    "\n",
    "空间复杂度：O(1)。"
   ]
  }
 ],
 "metadata": {
  "kernelspec": {
   "display_name": "Python 3",
   "language": "python",
   "name": "python3"
  },
  "language_info": {
   "codemirror_mode": {
    "name": "ipython",
    "version": 3
   },
   "file_extension": ".py",
   "mimetype": "text/x-python",
   "name": "python",
   "nbconvert_exporter": "python",
   "pygments_lexer": "ipython3",
   "version": "3.11.9"
  }
 },
 "nbformat": 4,
 "nbformat_minor": 2
}
