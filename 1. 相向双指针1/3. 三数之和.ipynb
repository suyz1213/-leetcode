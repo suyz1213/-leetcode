{
 "cells": [
  {
   "cell_type": "markdown",
   "metadata": {},
   "source": [
    "题目：\n",
    "\n",
    "给你一个整数数组nums，判断是否存在三元组[nums[i], nums[j], nums[k]]满足i!=j、i!=k 且j!=k，同时还满足nums[i] + nums[j] + nums[k] == 0。请你返回所有和为0且不重复的三元组。\n",
    "\n",
    "注意：答案中不可以包含重复的三元组。\n",
    "\n",
    "参考：https://leetcode.cn/problems/3sum/solutions/1968332/shuang-zhi-zhen-xiang-bu-ming-bai-yi-ge-pno55/\n",
    "\n",
    "例：\n",
    "\n",
    "输入: nums = [-1,0,1,2,-1,-4]\n",
    "\n",
    "输出: [[-1,-1,2],[-1,0,1]]\n",
    "\n",
    "注意，输出的顺序和三元组的顺序并不重要。"
   ]
  },
  {
   "cell_type": "code",
   "execution_count": 2,
   "metadata": {},
   "outputs": [],
   "source": [
    "from typing import List"
   ]
  },
  {
   "cell_type": "markdown",
   "metadata": {},
   "source": [
    "方法：双向指针\n",
    "\n",
    "先排序，然后for循环每次固定第一个数nums[i]，然后使用双向指针搜索能满足nums[k] + nums[j] = 0 - nums[i]的另外两个数。"
   ]
  },
  {
   "cell_type": "markdown",
   "metadata": {},
   "source": [
    "<img src=\"./三数之和重复元素.png\" style=\"zoom:50%\" />\n",
    "\n",
    "此时两个-1跟0，1都产生重复的三元组。解决：当前枚举的数与上一个数相同，直接跳过此次枚举的数。"
   ]
  },
  {
   "cell_type": "code",
   "execution_count": 21,
   "metadata": {},
   "outputs": [
    {
     "data": {
      "text/plain": [
       "[[-1, -1, 2], [-1, 0, 1]]"
      ]
     },
     "execution_count": 21,
     "metadata": {},
     "output_type": "execute_result"
    }
   ],
   "source": [
    "class Solution:\n",
    "    def threeSum(self, nums: List[int]) -> List[List[int]]:\n",
    "        # i < j < k\n",
    "        nums.sort()  # 先排序\n",
    "        ans = []\n",
    "        n = len(nums)\n",
    "        \n",
    "        for i in range(n - 2):  # 当i循环到倒数第三个数时，留两个数给j和k\n",
    "            x = nums[i]\n",
    "            if i > 0 and x == nums[i - 1]:  # 当前枚举的数与上一次枚举的数相同时，直接跳过此次枚举，防止产生重复的三元组\n",
    "                continue  # continue直接进入下一个枚举\n",
    "            if x + nums[i + 1] + nums[i + 2] > 0:  # 优化1：排序后前三个小的数之和大于0，则后面任意三个数之和必定大于0\n",
    "                break\n",
    "            if x + nums[-1] + nums[-2] < 0:  # 优化2：第一个数和最后两个数之和小于0，说明第一个数跟除最后两个数之外的任意两数必定小于0，可直接跳过此次枚举\n",
    "                continue\n",
    "            j, k = i + 1, n - 1  # 在当前枚举的index下，定义双向指针的初始位置，j为当前枚举的下一位数，k为最后一个数；因为index从0开始，所以最后一位为n-1\n",
    "            while j < k:\n",
    "                s = x + nums[j] + nums[k]\n",
    "                if s > 0:\n",
    "                    k -= 1\n",
    "                elif s < 0:\n",
    "                    j += 1\n",
    "                else:\n",
    "                    ans.append([x, nums[j], nums[k]])  # 题目要求return为一个list，所以使用append()\n",
    "                    j += 1  # 因为结果不唯一，此处和下面继续更新j和k\n",
    "                    while j < k and nums[j] == nums[j - 1]:  # 此处和下面都是判断j的右边一位和k的左边一位不重复，防止结果有重复的三元组；确保j<k\n",
    "                        j += 1\n",
    "                    k -= 1\n",
    "                    while k > j and nums[k] == nums[k + 1]:\n",
    "                        k -= 1\n",
    "        \n",
    "        return ans\n",
    "\n",
    "s1 = Solution()\n",
    "s1.threeSum([-1,0,1,2,-1,4])"
   ]
  },
  {
   "cell_type": "code",
   "execution_count": 22,
   "metadata": {},
   "outputs": [
    {
     "data": {
      "text/plain": [
       "[]"
      ]
     },
     "execution_count": 22,
     "metadata": {},
     "output_type": "execute_result"
    }
   ],
   "source": [
    "s1.threeSum([1,2,-2,-1])"
   ]
  },
  {
   "cell_type": "markdown",
   "metadata": {},
   "source": [
    "时间复杂度：O(N^2)，其中N为nums的长度。排序的时间复杂度为O(Nlog⁡N)；外层循环枚举第一个数为O(N)，后面双指针为O(N)，因此总共为O(N^2)。因为O(N^2)大于O(NlogN)，所以时间复杂度为O(N^2)。\n",
    "\n",
    "空间复杂度：O(1)。仅用到若干变量（忽略排序的栈开销）。"
   ]
  }
 ],
 "metadata": {
  "kernelspec": {
   "display_name": "Python 3",
   "language": "python",
   "name": "python3"
  },
  "language_info": {
   "codemirror_mode": {
    "name": "ipython",
    "version": 3
   },
   "file_extension": ".py",
   "mimetype": "text/x-python",
   "name": "python",
   "nbconvert_exporter": "python",
   "pygments_lexer": "ipython3",
   "version": "3.11.9"
  }
 },
 "nbformat": 4,
 "nbformat_minor": 2
}
