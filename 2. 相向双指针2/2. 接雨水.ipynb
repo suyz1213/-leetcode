{
 "cells": [
  {
   "cell_type": "markdown",
   "metadata": {},
   "source": [
    "题目：\n",
    "\n",
    "给定n个非负整数表示每个宽度为1的柱子的高度图，计算按此排列的柱子，下雨之后能接多少雨水。\n",
    "\n",
    "参考：https://leetcode.cn/problems/trapping-rain-water/solutions/1974340/zuo-liao-nbian-huan-bu-hui-yi-ge-shi-pin-ukwm/\n",
    "\n",
    "例：\n",
    "\n",
    "输入: height = [0,1,0,2,1,0,1,3,2,1,2,1]\n",
    "\n",
    "输出: 6\n",
    "\n",
    "解释：<img src=\"./接雨水.png\" style=\"zoom:70%\" />\n",
    "\n",
    "上面是由数组[0,1,0,2,1,0,1,3,2,1,2,1]表示的高度图，在这种情况下，可以接6个单位的雨水（蓝色部分表示雨水）。"
   ]
  },
  {
   "cell_type": "code",
   "execution_count": 2,
   "metadata": {},
   "outputs": [],
   "source": [
    "from typing import List"
   ]
  },
  {
   "cell_type": "markdown",
   "metadata": {},
   "source": [
    "方法一：前后缀分解+额外数组\n",
    "\n",
    "<img src=\"./接雨水-方法一.png\" style=\"zoom:30%\" />\n",
    "\n",
    "单位区间能否接多少水取决于其前后木板的高度，如图左侧高度取决于前面木板的高度，右侧同理，此时左侧（前缀）高度为2，右侧（后缀）高度为3，则接水为min(前缀，后缀) - 木板高度 = min(2, 3) - 1 = 1。计算前后缀高度：min(当前木板高度，前缀or后缀高度)。"
   ]
  },
  {
   "cell_type": "code",
   "execution_count": 3,
   "metadata": {},
   "outputs": [
    {
     "data": {
      "text/plain": [
       "6"
      ]
     },
     "execution_count": 3,
     "metadata": {},
     "output_type": "execute_result"
    }
   ],
   "source": [
    "class Solution:\n",
    "    def trap(self, height: List[int]) -> int:\n",
    "        n = len(height)\n",
    "        \n",
    "        pre_max = [0] * n\n",
    "        pre_max[0] = height[0]\n",
    "        for i in range(1, n):\n",
    "            pre_max[i] = max(pre_max[i - 1], height[i])\n",
    "\n",
    "        post_max = [0] * n\n",
    "        post_max[-1] = height[-1]\n",
    "        for i in range(n - 2, -1, -1):  # 此处for循环可以跟下面合并为一个\n",
    "            post_max[i] = max(post_max[i + 1], height[i])\n",
    "\n",
    "        ans = 0\n",
    "        for h, pre, post in zip(height, pre_max, post_max):\n",
    "            ans += min(pre, post) - h\n",
    "        \n",
    "        return ans\n",
    "\n",
    "s1 = Solution()\n",
    "s1.trap([0,1,0,2,1,0,1,3,2,1,2,1])"
   ]
  },
  {
   "cell_type": "markdown",
   "metadata": {},
   "source": [
    "时间复杂度：O(N)。三个for循环，每个为O(N)，总共为O(3N)，忽略常数系数。\n",
    "\n",
    "空间复杂度：O(N)。创建了两个空间复杂度为O(N)的数组。"
   ]
  },
  {
   "cell_type": "markdown",
   "metadata": {},
   "source": [
    "方法二：相向双指针\n",
    "\n",
    "<img src=\"./接雨水-方法二.png\" style=\"zoom:30%\" />\n",
    "\n",
    "每个单位容纳水的量取决于前后缀，以左侧桶为例，左侧前缀可以通过在左边设定指针获取，右侧未知，但容纳水的高度可以通过右侧的后缀获知，因为之后的后续高度并不会低于左侧的前缀高度（每次改变表示矮的指针）。然后移动矮的指针，重复上述，直至两指针相遇。"
   ]
  },
  {
   "cell_type": "code",
   "execution_count": 4,
   "metadata": {},
   "outputs": [
    {
     "data": {
      "text/plain": [
       "6"
      ]
     },
     "execution_count": 4,
     "metadata": {},
     "output_type": "execute_result"
    }
   ],
   "source": [
    "class Solution:\n",
    "    def trap(self, height: List[int]) -> int:\n",
    "        n = len(height)\n",
    "        ans = left = pre_max = post_max = 0\n",
    "        right = n - 1\n",
    "\n",
    "        while left < right:  # 可以不取等，因为取等时，两个高度重合（宽度为0），不能容纳水\n",
    "            pre_max = max(height[left], pre_max)\n",
    "            post_max = max(height[right], post_max)\n",
    "            if pre_max < post_max:\n",
    "                ans += pre_max - height[left]\n",
    "                left += 1\n",
    "            else:\n",
    "                ans += post_max - height[right]\n",
    "                right -= 1\n",
    "                \n",
    "        return ans\n",
    "\n",
    "s1 = Solution()\n",
    "s1.trap([0,1,0,2,1,0,1,3,2,1,2,1])"
   ]
  },
  {
   "cell_type": "markdown",
   "metadata": {},
   "source": [
    "时间复杂度：O(N)。\n",
    "\n",
    "空间复杂度：O(1)。"
   ]
  }
 ],
 "metadata": {
  "kernelspec": {
   "display_name": "Python 3",
   "language": "python",
   "name": "python3"
  },
  "language_info": {
   "codemirror_mode": {
    "name": "ipython",
    "version": 3
   },
   "file_extension": ".py",
   "mimetype": "text/x-python",
   "name": "python",
   "nbconvert_exporter": "python",
   "pygments_lexer": "ipython3",
   "version": "3.11.9"
  }
 },
 "nbformat": 4,
 "nbformat_minor": 2
}
