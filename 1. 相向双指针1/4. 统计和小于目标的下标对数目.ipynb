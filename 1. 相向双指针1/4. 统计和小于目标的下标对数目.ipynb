{
 "cells": [
  {
   "cell_type": "markdown",
   "metadata": {},
   "source": [
    "题目：\n",
    "\n",
    "给你一个下标从0开始长度为n的整数数组nums和一个整数target，请你返回满足0 <= i < j < n且nums[i] + nums[j] < target的下标对(i, j)的数目。\n",
    "\n",
    "参考：https://leetcode.cn/problems/count-pairs-whose-sum-is-less-than-target/solutions/2396216/onlogn-pai-xu-shuang-zhi-zhen-by-endless-qk40/\n",
    "\n",
    "例：\n",
    "\n",
    "输入: nums = [-1,1,2,3,1]，target = 2\n",
    "\n",
    "输出: 3\n",
    "\n",
    "解释：(0,1)，(0,2)，(0,4)"
   ]
  },
  {
   "cell_type": "code",
   "execution_count": 2,
   "metadata": {},
   "outputs": [],
   "source": [
    "from typing import List"
   ]
  },
  {
   "cell_type": "markdown",
   "metadata": {},
   "source": [
    "方法：双向指针\n",
    "\n",
    "先将数组排序，然后选取最左和最右的值。若其和小于target，则比最右的值小的所有数都满足与最左的值之和小于target，此时满足的数组对数为right-left，并取最左边值的右一位为left；若其和大于target，则舍弃最右边的值取其前一位的值。"
   ]
  },
  {
   "cell_type": "code",
   "execution_count": 4,
   "metadata": {},
   "outputs": [
    {
     "data": {
      "text/plain": [
       "3"
      ]
     },
     "execution_count": 4,
     "metadata": {},
     "output_type": "execute_result"
    }
   ],
   "source": [
    "class Solution:\n",
    "    def countPairs(self, nums: List[int], target: int) -> int:\n",
    "        nums.sort()\n",
    "        ans = left = 0\n",
    "        right = len(nums) - 1\n",
    "\n",
    "        while left < right:\n",
    "            s = nums[left] + nums[right]\n",
    "            if s >= target:\n",
    "                right -= 1\n",
    "            else:\n",
    "                ans += right - left\n",
    "                left += 1\n",
    "        \n",
    "        return ans\n",
    "    \n",
    "s1 = Solution()\n",
    "s1.countPairs([-1,1,2,3,1], 2)"
   ]
  },
  {
   "cell_type": "code",
   "execution_count": 6,
   "metadata": {},
   "outputs": [
    {
     "data": {
      "text/plain": [
       "10"
      ]
     },
     "execution_count": 6,
     "metadata": {},
     "output_type": "execute_result"
    }
   ],
   "source": [
    "s1.countPairs([-6,2,5,-2,-7,-1,3], -2)"
   ]
  },
  {
   "cell_type": "markdown",
   "metadata": {},
   "source": [
    "时间复杂度：O(NlogN)。主要开销在最开始的排序上，后面双指针时间复杂度为O(N)。\n",
    "\n",
    "空间复杂度：O(1)。不计入排序的栈开销，仅用到若干额外变量。"
   ]
  }
 ],
 "metadata": {
  "kernelspec": {
   "display_name": "Python 3",
   "language": "python",
   "name": "python3"
  },
  "language_info": {
   "codemirror_mode": {
    "name": "ipython",
    "version": 3
   },
   "file_extension": ".py",
   "mimetype": "text/x-python",
   "name": "python",
   "nbconvert_exporter": "python",
   "pygments_lexer": "ipython3",
   "version": "3.11.9"
  }
 },
 "nbformat": 4,
 "nbformat_minor": 2
}
