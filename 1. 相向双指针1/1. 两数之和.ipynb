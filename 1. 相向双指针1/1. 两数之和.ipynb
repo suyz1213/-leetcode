{
 "cells": [
  {
   "cell_type": "markdown",
   "metadata": {},
   "source": [
    "题目：\n",
    "\n",
    "给定一个整数数组nums和一个整数目标值target，请你在该数组中找出和为目标值target的那两个整数，并返回它们的数组下标。\n",
    "你可以假设每种输入只会对应一个答案。但是，数组中同一个元素在答案里不能重复出现。\n",
    "你可以按任意顺序返回答案。\n",
    "\n",
    "Python各数据结构的时间复杂度：https://wiki.python.org/moin/TimeComplexity；\n",
    "\n",
    "参考：https://leetcode.cn/problems/two-sum/solutions/2326193/dong-hua-cong-liang-shu-zhi-he-zhong-wo-0yvmj/\n",
    "\n",
    "例：\n",
    "\n",
    "输入: nums = [2,7,11,15], target = 9\n",
    "\n",
    "输出: [0,1]"
   ]
  },
  {
   "cell_type": "code",
   "execution_count": 49,
   "metadata": {},
   "outputs": [],
   "source": [
    "from typing import List\n",
    "import time"
   ]
  },
  {
   "cell_type": "markdown",
   "metadata": {},
   "source": [
    "方法一：暴力枚举\n",
    "\n",
    "先枚举下标i，再枚举下标j，判断nums[i] + nums[j] = target。\n",
    "\n",
    "暴力做法每次拿两个数出来相加，和target比较，那么花费O(1)的时间，只获取了O(1)的信息。\n",
    "\n",
    "<img src=\"./暴力枚举.png\" style=\"zoom:50%\" />\n",
    "\n",
    "时间复杂度: O(N^2); 空间复杂度: O(1)。\n"
   ]
  },
  {
   "cell_type": "code",
   "execution_count": 53,
   "metadata": {},
   "outputs": [
    {
     "name": "stdout",
     "output_type": "stream",
     "text": [
      "[4, 5]\n",
      "0.0005337000002327841\n"
     ]
    }
   ],
   "source": [
    "time_start = time.perf_counter()\n",
    "\n",
    "class Solution:\n",
    "    def twoSum(self, nums: List[int], target: int) -> List[int]:\n",
    "        n = len(nums)\n",
    "        for i in range(n):\n",
    "            for j in range(i + 1, n):\n",
    "                if nums[i] + nums[j] == target:\n",
    "                    return [i, j]\n",
    "                \n",
    "        return []\n",
    "    \n",
    "s1 = Solution()\n",
    "print(s1.twoSum([2,7,11,15,8,64,45,2,1], 72))\n",
    "\n",
    "time_end = time.perf_counter()\n",
    "time_cost = time_end - time_start\n",
    "print(time_cost)"
   ]
  },
  {
   "cell_type": "markdown",
   "metadata": {},
   "source": [
    "方法二：hashtable\n",
    "\n",
    "变形：nums[j] = target - nums[i]。问题变为：在一些数中找一个数。哈希表非常适合做这个事。\n",
    "\n",
    "每次查询都可以知道O(N)个数中是否有target-nums[j]，那么花费O(1)时间就获取了O(N)的信息。\n",
    "\n",
    "时间复杂度: O(N),其中N是数组中的元素数量。对于每一个元素x，我们可以O(1)地寻找target - x; 空间复杂度: O(N), 主要为hashtable的开销。"
   ]
  },
  {
   "cell_type": "markdown",
   "metadata": {},
   "source": [
    "<img src=\"./哈希表右枚举左查找.png\" style=\"zoom:70%\" />"
   ]
  },
  {
   "cell_type": "code",
   "execution_count": 48,
   "metadata": {},
   "outputs": [
    {
     "data": {
      "text/plain": [
       "[0, 1]"
      ]
     },
     "execution_count": 48,
     "metadata": {},
     "output_type": "execute_result"
    }
   ],
   "source": [
    "# 枚举右边，查找左边\n",
    "class Solution:\n",
    "    def twoSum(self, nums: List[int], target: int) -> List[int]:\n",
    "        hashtable = dict()\n",
    "        for idx, num in enumerate(nums):\n",
    "            if target - num in hashtable:\n",
    "                return [hashtable[target - num], idx]\n",
    "            hashtable[nums[idx]] = idx\n",
    "            \n",
    "        return []\n",
    "    \n",
    "s1 = Solution()\n",
    "s1.twoSum([2,7,11,15], 9)"
   ]
  },
  {
   "cell_type": "markdown",
   "metadata": {},
   "source": [
    "<img src=\"./哈希表左枚举右查找.png\" style=\"zoom:70%\" />"
   ]
  },
  {
   "cell_type": "code",
   "execution_count": 54,
   "metadata": {},
   "outputs": [
    {
     "name": "stdout",
     "output_type": "stream",
     "text": [
      "[4, 5]\n",
      "0.0006725999992340803\n"
     ]
    }
   ],
   "source": [
    "# 枚举左边，查找右边\n",
    "time_start = time.perf_counter()\n",
    "\n",
    "class Solution:\n",
    "    def twoSum(self, nums: List[int], target: int) -> List[int]:\n",
    "        hashtable = {}\n",
    "        for j, num in enumerate(nums):  # 把所有数及其index存入到hashtable中\n",
    "            hashtable[num] = j  # 相同元素直接覆盖，保留最靠右边的index\n",
    "        for i, num in enumerate(nums):\n",
    "            if hashtable[num] == i:  # 右边如果没有x，则删除hashtable中当前的x；为了防止下一步重复利用当前的值，例如[3,2,4]和target是6。\n",
    "                del hashtable[num]  # 不删除的话返回的是[0,0]\n",
    "            if target - num in hashtable:\n",
    "                return [i, hashtable[target - num]]\n",
    "\n",
    "s1 = Solution()\n",
    "print(s1.twoSum([2,7,11,15,8,64,45,2,1], 72))\n",
    "\n",
    "time_end = time.perf_counter()\n",
    "time_cost = time_end - time_start\n",
    "print(time_cost)"
   ]
  },
  {
   "cell_type": "markdown",
   "metadata": {},
   "source": [
    "小结：\n",
    "\n",
    "很多涉及到「两个变量」的题目，都可以枚举其中一个变量，把它当成常量看待，从而转换成「一个变量」的问题。\n",
    "\n",
    "代码实现时，通常来说「枚举右，寻找左」是更加好写的。"
   ]
  },
  {
   "cell_type": "markdown",
   "metadata": {},
   "source": [
    "思考：\n",
    "\n",
    "如果nums是有序的，是否还需要hashtable？换句话说，能够做到O(1)额外空间(空间复杂度?)？\n",
    "\n",
    "如果要求寻找三个数，它们的和等于target呢？"
   ]
  }
 ],
 "metadata": {
  "kernelspec": {
   "display_name": "Python 3",
   "language": "python",
   "name": "python3"
  },
  "language_info": {
   "codemirror_mode": {
    "name": "ipython",
    "version": 3
   },
   "file_extension": ".py",
   "mimetype": "text/x-python",
   "name": "python",
   "nbconvert_exporter": "python",
   "pygments_lexer": "ipython3",
   "version": "3.11.9"
  }
 },
 "nbformat": 4,
 "nbformat_minor": 2
}
