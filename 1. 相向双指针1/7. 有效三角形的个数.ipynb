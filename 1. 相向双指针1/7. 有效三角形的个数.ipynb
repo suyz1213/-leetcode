{
 "cells": [
  {
   "cell_type": "markdown",
   "metadata": {},
   "source": [
    "题目：\n",
    "\n",
    "给定一个包含非负整数的数组nums，返回其中可以组成三角形三条边的三元组个数。\n",
    "\n",
    "参考：https://leetcode.cn/problems/valid-triangle-number/solutions/2432875/zhuan-huan-cheng-abcyong-xiang-xiang-shu-1ex3/\n",
    "\n",
    "例：\n",
    "\n",
    "输入: nums = [2,2,3,4]\n",
    "\n",
    "输出: 3\n",
    "\n",
    "解释：2,3,4 (使用第一个 2)；2,3,4 (使用第二个 2)；2,2,3。"
   ]
  },
  {
   "cell_type": "code",
   "execution_count": 2,
   "metadata": {},
   "outputs": [],
   "source": [
    "from typing import List"
   ]
  },
  {
   "cell_type": "markdown",
   "metadata": {},
   "source": [
    "方法：双指针\n",
    "\n",
    "<img src=\"./有效三角形个数.png\" style=\"zoom:70%\" />"
   ]
  },
  {
   "cell_type": "code",
   "execution_count": 3,
   "metadata": {},
   "outputs": [
    {
     "data": {
      "text/plain": [
       "3"
      ]
     },
     "execution_count": 3,
     "metadata": {},
     "output_type": "execute_result"
    }
   ],
   "source": [
    "class Solution:\n",
    "    def triangleNumber(self, nums: List[int]) -> int:\n",
    "        nums.sort()\n",
    "        ans = 0\n",
    "        n = len(nums)\n",
    "        for k in range(2, n):\n",
    "            i, j = 0, k - 1\n",
    "            while i < j:\n",
    "                if nums[i] + nums[j] > nums[k]:\n",
    "                    ans += j - i\n",
    "                    j -= 1\n",
    "                else:\n",
    "                    i += 1\n",
    "        \n",
    "        return ans\n",
    "    \n",
    "s1 = Solution()\n",
    "s1.triangleNumber([2,2,3,4])"
   ]
  },
  {
   "cell_type": "markdown",
   "metadata": {},
   "source": [
    "优化1：在执行双指针之前，如果发现最小的a和b相加大于c，也就是nums[0] + nums[1] > nums[k]，说明从0到k中任选三个数都满足a + b > c，那么直接排列组合计算无顺序从k + 1中选三个数，即(k + 1)k(k - 1) / 6，然后退出循环。这也是为什么倒叙枚举k的原因（正序枚举无法退出循环）。\n",
    "\n",
    "优化2：在执行双指针之前，如果发现最大的a和b相加小于c，也就是nums[k-2] + nums[k-1] < nums[k]，说明不存在a + b > c，不执行双指针，继续外层循环。"
   ]
  },
  {
   "cell_type": "code",
   "execution_count": 8,
   "metadata": {},
   "outputs": [
    {
     "data": {
      "text/plain": [
       "4"
      ]
     },
     "execution_count": 8,
     "metadata": {},
     "output_type": "execute_result"
    }
   ],
   "source": [
    "class Solution:\n",
    "    def triangleNumber(self, nums: List[int]) -> int:\n",
    "        nums.sort()\n",
    "        ans = 0\n",
    "        n = len(nums)\n",
    "        for k in range(n-1, 1, -1):  # 倒序且不枚举前两个数\n",
    "            x = nums[k]\n",
    "            if nums[0] + nums[1] > x:\n",
    "                ans += (k + 1) * k * (k - 1) // 6  # 保证ans为int\n",
    "                break\n",
    "            if nums[k - 2] + nums[k - 1] < x:\n",
    "                continue\n",
    "            i, j = 0, k-1\n",
    "            while i < j:\n",
    "                if nums[i] + nums[j] > x:\n",
    "                    ans += j - i\n",
    "                    j -= 1\n",
    "                else:\n",
    "                    i += 1\n",
    "\n",
    "        return ans\n",
    "    \n",
    "s1 = Solution()\n",
    "s1.triangleNumber([4,2,3,4])"
   ]
  },
  {
   "cell_type": "markdown",
   "metadata": {},
   "source": [
    "时间复杂度：O(N^2)，其中N为nums的长度。排序的时间复杂度为O(Nlog⁡N)；枚举第一个数的时间复杂度为O(N)，后面双指针为O(N)，因此总共为O(N^2)。因为O(N^2)大于O(NlogN)，所以时间复杂度为O(N^2)。\n",
    "\n",
    "空间复杂度：O(1)。忽略返回值和排序的栈开销，仅用到若干变量。"
   ]
  }
 ],
 "metadata": {
  "kernelspec": {
   "display_name": "Python 3",
   "language": "python",
   "name": "python3"
  },
  "language_info": {
   "codemirror_mode": {
    "name": "ipython",
    "version": 3
   },
   "file_extension": ".py",
   "mimetype": "text/x-python",
   "name": "python",
   "nbconvert_exporter": "python",
   "pygments_lexer": "ipython3",
   "version": "3.11.9"
  }
 },
 "nbformat": 4,
 "nbformat_minor": 2
}
