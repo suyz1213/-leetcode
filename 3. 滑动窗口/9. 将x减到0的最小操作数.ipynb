{
 "cells": [
  {
   "cell_type": "markdown",
   "metadata": {},
   "source": [
    "题目：\n",
    "\n",
    "给你一个整数数组nums和一个整数x。每一次操作时，你应当移除数组nums最左边或最右边的元素，然后从x中减去该元素的值。请注意，需要修改数组以供接下来的操作使用。如果可以将x恰好减到0，返回最小操作数；否则，返回-1。 \n",
    "\n",
    "参考：https://leetcode.cn/problems/minimum-operations-to-reduce-x-to-zero/solutions/2048811/ni-xiang-si-wei-pythonjavacgo-by-endless-b4jt/\n",
    "\n",
    "例：\n",
    "\n",
    "输入: nums = [1,1,4,2,3], x = 5\n",
    "\n",
    "输出: 2\n",
    "\n",
    "解释：最佳解决方案是移除后两个元素，将x减到0。"
   ]
  },
  {
   "cell_type": "code",
   "execution_count": 1,
   "metadata": {},
   "outputs": [],
   "source": [
    "from typing import List"
   ]
  },
  {
   "cell_type": "markdown",
   "metadata": {},
   "source": [
    "方法一：逆向思维 + 滑动窗口\n",
    "\n",
    "原问题从左或右两侧去除最少的元素使得去除的元素和等于x，等价于，去除一个连续的最长数组使得剩余的元素和为x，即找最长数组等于sum(nums)-x。\n",
    "\n",
    "枚举滑窗右端点，若当前滑窗内数组加和小于goal，则继续枚举下一个扩大滑窗；若大于goal则缩进左端点，并减去对应的元素值；若相等，则记录该滑窗长度。"
   ]
  },
  {
   "cell_type": "code",
   "execution_count": 3,
   "metadata": {},
   "outputs": [
    {
     "data": {
      "text/plain": [
       "2"
      ]
     },
     "execution_count": 3,
     "metadata": {},
     "output_type": "execute_result"
    }
   ],
   "source": [
    "class Solution:\n",
    "    def minOperations(self, nums: List[int], x: int) -> int:\n",
    "        goal = sum(nums) - x\n",
    "        left = s = 0\n",
    "        ans = -1\n",
    "\n",
    "        if goal < 0: return -1  # 全部加起来都小于x\n",
    "\n",
    "        for right, num in enumerate(nums):\n",
    "            s += num\n",
    "            while s > goal:\n",
    "                s -= nums[left]\n",
    "                left += 1\n",
    "            if s == goal:\n",
    "                ans = max(ans, right-left+1)\n",
    "            \n",
    "        return -1 if ans < 0 else len(nums) - ans\n",
    "    \n",
    "s1 = Solution()\n",
    "s1.minOperations(nums = [1,1,4,2,3], x = 5)"
   ]
  },
  {
   "cell_type": "markdown",
   "metadata": {},
   "source": [
    "时间复杂度：O(N)。left至多加到n，right也是枚举n次。但left从始至终没有重置，因此不是O(N^2)。\n",
    "\n",
    "空间复杂度：O(1)。"
   ]
  },
  {
   "cell_type": "markdown",
   "metadata": {},
   "source": [
    "方法二：直接双指针\n",
    "\n",
    "首先算出最长的元素和不超过xxx的后缀，然后不断枚举前缀长度，另一个指针指向后缀最左元素，保证前缀+后缀的元素和不超过xxx。答案就是前缀+后缀长度之和的最小值。"
   ]
  },
  {
   "cell_type": "code",
   "execution_count": null,
   "metadata": {},
   "outputs": [],
   "source": [
    "class Solution:\n",
    "    def minOperations(self, nums: List[int], x: int) -> int:\n",
    "        s = 0\n",
    "        n = len(nums)\n",
    "        right = n  # 此处不写为n-1，因为下面while循环需要依次加上最右端的数；若写n-1，则会跳过最开始右端数\n",
    "\n",
    "        while right and s + nums[right - 1] <= x:\n",
    "            s += nums[right - 1]\n",
    "            right -= 1\n",
    "        if right == 0 and s < x: return -1\n",
    "        ans = n - right if s == x else inf\n",
    "        for left, num in enumerate(nums):\n",
    "            s += num\n",
    "            while right < n and s > x:  # right<n：防止right超过range\n",
    "                s -= nums[right]  # 此时right指示的是满足s<=x的最小位\n",
    "                right += 1  # 缩小后缀长度\n",
    "            if s > x: break  # 前缀过大，缩小失败\n",
    "            if s == x: ans = min(ans, left+1+n-right)  # 前缀+后缀长度\n",
    "        \n",
    "        return ans if ans <= n else -1"
   ]
  },
  {
   "cell_type": "markdown",
   "metadata": {},
   "source": [
    "时间复杂度：O(N)。\n",
    "\n",
    "空间复杂度：O(1)。"
   ]
  }
 ],
 "metadata": {
  "kernelspec": {
   "display_name": "Python 3",
   "language": "python",
   "name": "python3"
  },
  "language_info": {
   "codemirror_mode": {
    "name": "ipython",
    "version": 3
   },
   "file_extension": ".py",
   "mimetype": "text/x-python",
   "name": "python",
   "nbconvert_exporter": "python",
   "pygments_lexer": "ipython3",
   "version": "3.11.9"
  }
 },
 "nbformat": 4,
 "nbformat_minor": 2
}
