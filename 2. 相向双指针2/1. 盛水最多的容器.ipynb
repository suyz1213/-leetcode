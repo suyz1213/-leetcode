{
 "cells": [
  {
   "cell_type": "markdown",
   "metadata": {},
   "source": [
    "题目：\n",
    "\n",
    "给定一个长度为n的整数数组height。有n条垂线，第i条线的两个端点是(i, 0)和(i, height[i])。\n",
    "\n",
    "找出其中的两条线，使得它们与x轴共同构成的容器可以容纳最多的水。\n",
    "\n",
    "参考：https://leetcode.cn/problems/container-with-most-water/solutions/1974355/by-endlesscheng-f0xz/\n",
    "\n",
    "例：\n",
    "\n",
    "输入: [1,8,6,2,5,4,8,3,7]\n",
    "\n",
    "输出: 49\n",
    "\n",
    "解释：<img src=\"./盛水最多的容器.png\" style=\"zoom:50%\" />"
   ]
  },
  {
   "cell_type": "code",
   "execution_count": null,
   "metadata": {},
   "outputs": [],
   "source": [
    "from typing import List"
   ]
  },
  {
   "cell_type": "markdown",
   "metadata": {},
   "source": [
    "方法：双指针\n",
    "\n",
    "对于选定的两跟柱子，移动高的那一根，无论其内部的柱子高或低，与矮的那一根柱子构成的容积都小于当前容积，此时要移动矮的那一根。因此总体流程为先定义两个指针，依次移动矮的那一根，并比较每次新构成的容积与之前容积的大小，保存最大的那个。"
   ]
  },
  {
   "cell_type": "code",
   "execution_count": 5,
   "metadata": {},
   "outputs": [
    {
     "data": {
      "text/plain": [
       "49"
      ]
     },
     "execution_count": 5,
     "metadata": {},
     "output_type": "execute_result"
    }
   ],
   "source": [
    "class Solution:\n",
    "    def maxArea(self, height: List[int]) -> int:\n",
    "        ans = 0\n",
    "        left = 0\n",
    "        right = len(height) - 1\n",
    "\n",
    "        while left < right:\n",
    "            area = (right - left) * min(height[left], height[right])\n",
    "            ans = max(area, ans)\n",
    "\n",
    "            if height[left] < height[right]:\n",
    "                left += 1\n",
    "            else:\n",
    "                right -= 1\n",
    "        \n",
    "        return ans\n",
    "    \n",
    "s1 = Solution()\n",
    "s1.maxArea([1,8,6,2,5,4,8,3,7])"
   ]
  },
  {
   "cell_type": "markdown",
   "metadata": {},
   "source": [
    "时间复杂度：O(N)。\n",
    "\n",
    "空间复杂度：O(1)。仅用到若干变量。"
   ]
  }
 ],
 "metadata": {
  "kernelspec": {
   "display_name": "Python 3",
   "language": "python",
   "name": "python3"
  },
  "language_info": {
   "codemirror_mode": {
    "name": "ipython",
    "version": 3
   },
   "file_extension": ".py",
   "mimetype": "text/x-python",
   "name": "python",
   "nbconvert_exporter": "python",
   "pygments_lexer": "ipython3",
   "version": "3.11.9"
  }
 },
 "nbformat": 4,
 "nbformat_minor": 2
}
