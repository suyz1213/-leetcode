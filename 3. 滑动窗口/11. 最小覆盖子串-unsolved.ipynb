{
 "cells": [
  {
   "cell_type": "markdown",
   "metadata": {},
   "source": [
    "题目：\n",
    "\n",
    "给你一个字符串s 、一个字符串t 。返回s中涵盖t所有字符的最小子串。如果s中不存在涵盖t所有字符的子串，则返回空字符串\"\" 。\n",
    "\n",
    "注意：对于t中重复字符，我们寻找的子字符串中该字符数量必须不少于t中该字符数量；如果s中存在这样的子串，我们保证它是唯一的答案。\n",
    "\n",
    "参考：https://leetcode.cn/problems/minimum-window-substring/solutions/2713911/liang-chong-fang-fa-cong-o52mn-dao-omnfu-3ezz/\n",
    "\n",
    "例：\n",
    "\n",
    "输入: s = \"ADOBECODEBANC\", t = \"ABC\"\n",
    "\n",
    "输出: \"BANC\"\n",
    "\n",
    "解释：最小覆盖子串\"BANC\"包含来自字符串t的'A'、'B'和'C'。"
   ]
  },
  {
   "cell_type": "code",
   "execution_count": 2,
   "metadata": {},
   "outputs": [],
   "source": [
    "from typing import List"
   ]
  },
  {
   "cell_type": "markdown",
   "metadata": {},
   "source": [
    "方法一：滑动窗口 + hashmap\n",
    "\n",
    "s的子串BANC中每个字母的出现次数，都大于等于t=ABC中每个字母的出现次数，这就叫涵盖。\n",
    "\n",
    "1. 初始化ansLeft=−1, ansRight=m，用来记录最短子串的左右端点，其中m是s的长度；\n",
    "\n",
    "2. 用一个哈希表（或者数组）cntT统计t中每个字母的出现次数；\n",
    "\n",
    "3. 初始化 left=0，以及一个空哈希表（或者数组）cntS，用来统计s子串中每个字母的出现次数；\n",
    "\n",
    "4. 遍历s，设当前枚举的子串右端点为right，把s[right]的出现次数加一；\n",
    "\n",
    "5. 遍历cntS中的每个字母及其出现次数，如果出现次数都大于等于cntT中的字母出现次数：\n",
    "\n",
    "    a. 如果right−left<ansRight−ansLeft，说明我们找到了更短的子串，更新ansLeft=left, ansRight=right。\n",
    "\n",
    "    b. 把s[left]的出现次数减一。\n",
    "\n",
    "    c. 左端点右移，即left加一。\n",
    "    \n",
    "    重复上述三步，直到cntS有字母的出现次数小于cntT中该字母的出现次数为止。\n",
    "\n",
    "6. 最后，如果ansLeft<0，说明没有找到符合要求的子串，返回空字符串，否则返回下标ansLeft到下标ansRight之间的子串。"
   ]
  },
  {
   "cell_type": "code",
   "execution_count": 3,
   "metadata": {},
   "outputs": [],
   "source": [
    "from collections import Counter"
   ]
  },
  {
   "cell_type": "code",
   "execution_count": 5,
   "metadata": {},
   "outputs": [
    {
     "data": {
      "text/plain": [
       "'BANC'"
      ]
     },
     "execution_count": 5,
     "metadata": {},
     "output_type": "execute_result"
    }
   ],
   "source": [
    "class Solution:\n",
    "    def minWindow(self, s: str, t: str) -> str:\n",
    "        ansLeft, ansRight = -1, len(s)\n",
    "        left = 0\n",
    "        cnt_t = Counter(t)\n",
    "        cnt_s = Counter()\n",
    "        \n",
    "        for right, c in enumerate(s):\n",
    "            cnt_s[c] += 1\n",
    "            while cnt_s >= cnt_t:\n",
    "                if right - left < ansRight - ansLeft:\n",
    "                    ansRight, ansLeft = right, left\n",
    "                cnt_s[s[left]] -= 1\n",
    "                left += 1\n",
    "        \n",
    "        return \"\" if ansLeft < 0 else s[ansLeft: ansRight + 1]\n",
    "    \n",
    "s1 = Solution()\n",
    "s1.minWindow(s = \"ADOBECODEBANC\", t = \"ABC\")"
   ]
  }
 ],
 "metadata": {
  "kernelspec": {
   "display_name": "Python 3",
   "language": "python",
   "name": "python3"
  },
  "language_info": {
   "codemirror_mode": {
    "name": "ipython",
    "version": 3
   },
   "file_extension": ".py",
   "mimetype": "text/x-python",
   "name": "python",
   "nbconvert_exporter": "python",
   "pygments_lexer": "ipython3",
   "version": "3.11.9"
  }
 },
 "nbformat": 4,
 "nbformat_minor": 2
}
