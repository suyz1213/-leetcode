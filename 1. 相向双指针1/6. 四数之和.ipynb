{
 "cells": [
  {
   "cell_type": "markdown",
   "metadata": {},
   "source": [
    "题目：\n",
    "\n",
    "给你一个由n个整数组成的数组nums，和一个目标值target。请你找出并返回满足下述全部条件且不重复的四元组[nums[a], nums[b], nums[c], nums[d]]（若两个四元组元素一一对应，则认为两个四元组重复）：\n",
    "\n",
    "1. 0 <= a, b, c, d < n\n",
    "\n",
    "2. a, b, c和d各不相同\n",
    "\n",
    "3. nums[a] + nums[b] + nums[c] + nums[d] == target\n",
    "\n",
    "注：你可以按任意顺序返回答案。\n",
    "\n",
    "参考：https://leetcode.cn/problems/4sum/solutions/2344514/ji-zhi-you-hua-ji-yu-san-shu-zhi-he-de-z-1f0b/\n",
    "\n",
    "例：\n",
    "\n",
    "输入: nums = [1,0,-1,0,-2,2]，target = 0\n",
    "\n",
    "输出: [[-2,-1,1,2],[-2,0,0,2],[-1,0,0,1]]"
   ]
  },
  {
   "cell_type": "code",
   "execution_count": 4,
   "metadata": {},
   "outputs": [],
   "source": [
    "from typing import List"
   ]
  },
  {
   "cell_type": "markdown",
   "metadata": {},
   "source": [
    "方法：双指针\n",
    "\n",
    "需要通过两个for循环枚举前两个数，对后两个数使用双指针。"
   ]
  },
  {
   "cell_type": "code",
   "execution_count": 5,
   "metadata": {},
   "outputs": [
    {
     "data": {
      "text/plain": [
       "[[-2, -1, 1, 2], [-2, 0, 0, 2], [-1, 0, 0, 1]]"
      ]
     },
     "execution_count": 5,
     "metadata": {},
     "output_type": "execute_result"
    }
   ],
   "source": [
    "class Solution:\n",
    "    def fourSum(self, nums: List[int], target: int) -> List[List[int]]:\n",
    "        nums.sort()\n",
    "        ans = []\n",
    "        n = len(nums)\n",
    "\n",
    "        for a in range(n - 3):  # 枚举第一个数\n",
    "            x = nums[a]\n",
    "            if a > 0 and x == nums[a - 1]:\n",
    "                continue\n",
    "            if x + nums[a + 1] + nums[a + 2] + nums[a + 3] > target:\n",
    "                break\n",
    "            if x + nums[-1] + nums[-2] + nums[-3] < target:\n",
    "                continue\n",
    "            for b in range(a + 1, n - 2):  # 枚举第二个数\n",
    "                y = nums[b]\n",
    "                if b > a + 1 and y == nums[b - 1]:\n",
    "                    continue\n",
    "                if x + y + nums[b + 1] + nums[b + 2] > target:\n",
    "                    break\n",
    "                if x + y + nums[-2] + nums[-1] < target:\n",
    "                    continue\n",
    "                c, d = b + 1, n - 1\n",
    "                while c < d:\n",
    "                    s = x + y + nums[c] + nums[d]\n",
    "                    if s > target:\n",
    "                        d -= 1\n",
    "                    if s < target:\n",
    "                        c += 1\n",
    "                    if s == target:\n",
    "                        ans.append([x, y, nums[c], nums[d]])\n",
    "                        c += 1\n",
    "                        while c < d and nums[c] == nums[c - 1]:\n",
    "                            c += 1\n",
    "                        d -= 1\n",
    "                        while c < d and nums[d] == nums[d + 1]:\n",
    "                            d -= 1\n",
    "        \n",
    "        return ans\n",
    "\n",
    "s1 = Solution()\n",
    "s1.fourSum([1,0,-1,0,-2,2], 0)"
   ]
  },
  {
   "cell_type": "markdown",
   "metadata": {},
   "source": [
    "时间复杂度：O(N^3)，其中N为nums的长度。排序的时间复杂度为O(Nlog⁡N)；分别枚举前两个数的时间复杂度为O(N)，后面双指针为O(N)，因此总共为O(N^3)。因为O(N^3)大于O(NlogN)，所以时间复杂度为O(N^3)。\n",
    "\n",
    "空间复杂度：O(1)。忽略返回值和排序的栈开销，仅用到若干变量。"
   ]
  }
 ],
 "metadata": {
  "kernelspec": {
   "display_name": "Python 3",
   "language": "python",
   "name": "python3"
  },
  "language_info": {
   "codemirror_mode": {
    "name": "ipython",
    "version": 3
   },
   "file_extension": ".py",
   "mimetype": "text/x-python",
   "name": "python",
   "nbconvert_exporter": "python",
   "pygments_lexer": "ipython3",
   "version": "3.11.9"
  }
 },
 "nbformat": 4,
 "nbformat_minor": 2
}
