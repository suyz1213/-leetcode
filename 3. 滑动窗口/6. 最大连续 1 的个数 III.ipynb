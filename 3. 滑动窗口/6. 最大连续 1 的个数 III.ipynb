{
 "cells": [
  {
   "cell_type": "markdown",
   "metadata": {},
   "source": [
    "题目：\n",
    "\n",
    "给定一个二进制数组nums和一个整数k，如果可以翻转最多k个0 ，则返回数组中连续1的最大个数 。\n",
    "\n",
    "参考：https://leetcode.cn/problems/max-consecutive-ones-iii/solutions/2126631/hua-dong-chuang-kou-yi-ge-shi-pin-jiang-yowmi/\n",
    "\n",
    "例：\n",
    "\n",
    "输入: nums = [1,1,1,0,0,0,1,1,1,1,0], K = 2\n",
    "\n",
    "输出: 6\n",
    "\n",
    "解释：后面一组4个1的前后两个0翻转可以有6个连续的1。"
   ]
  },
  {
   "cell_type": "code",
   "execution_count": 2,
   "metadata": {},
   "outputs": [],
   "source": [
    "from typing import List"
   ]
  },
  {
   "cell_type": "markdown",
   "metadata": {},
   "source": [
    "方法：滑动窗口\n",
    "\n",
    "枚举窗口右端点，统计当前窗口内0的个数，并比较与指定翻转次数k的大小；如果小于等于k，说明窗口还可以容纳更多数，连续的1还可以更长，则移动右边窗口的指针；相反则移动左边，这表明这是当前最长的连续1数组，需要移动左边指针；若抛弃的左边的数为0，cnt0需要减1。"
   ]
  },
  {
   "cell_type": "code",
   "execution_count": 6,
   "metadata": {},
   "outputs": [
    {
     "data": {
      "text/plain": [
       "6"
      ]
     },
     "execution_count": 6,
     "metadata": {},
     "output_type": "execute_result"
    }
   ],
   "source": [
    "class Solution:\n",
    "    def longestOnes(self, nums: List[int], k: int) -> int:\n",
    "        left = ans = cnt0 = 0\n",
    "        for right, num in enumerate(nums):\n",
    "            cnt0 += num == 0\n",
    "            while cnt0 > k:\n",
    "                cnt0 -= nums[left] == 0\n",
    "                left += 1\n",
    "            ans = max(ans, right-left+1)\n",
    "\n",
    "        return ans\n",
    "    \n",
    "s1 = Solution()\n",
    "s1.longestOnes([1,1,1,0,0,0,1,1,1,1,0], 2)"
   ]
  },
  {
   "cell_type": "markdown",
   "metadata": {},
   "source": [
    "时间复杂度：O(N)。\n",
    "\n",
    "空间复杂度：O(1)。"
   ]
  }
 ],
 "metadata": {
  "kernelspec": {
   "display_name": "Python 3",
   "language": "python",
   "name": "python3"
  },
  "language_info": {
   "codemirror_mode": {
    "name": "ipython",
    "version": 3
   },
   "file_extension": ".py",
   "mimetype": "text/x-python",
   "name": "python",
   "nbconvert_exporter": "python",
   "pygments_lexer": "ipython3",
   "version": "3.11.9"
  }
 },
 "nbformat": 4,
 "nbformat_minor": 2
}
